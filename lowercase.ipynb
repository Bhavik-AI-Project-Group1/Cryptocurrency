{
  "nbformat": 4,
  "nbformat_minor": 0,
  "metadata": {
    "colab": {
      "provenance": []
    },
    "kernelspec": {
      "name": "python3",
      "display_name": "Python 3"
    },
    "language_info": {
      "name": "python"
    }
  },
  "cells": [
    {
      "cell_type": "code",
      "execution_count": null,
      "metadata": {
        "id": "YVcLbJoZn4GA"
      },
      "outputs": [],
      "source": [
        "# Strip any extra whitespace and convert to lowercase for uniformity\n",
        "df['currency_name'] = df['currency_name'].str.strip().str.lower()\n",
        "\n",
        "# Check the unique values again after cleaning\n",
        "unique_currency_types = df['currency_name'].nunique()\n",
        "print(f\"Unique currency types (cleaned): {df['currency_name'].unique()}\")\n",
        "print(f\"Number of unique currency types (cleaned): {unique_currency_types}\")\n"
      ]
    }
  ]
}