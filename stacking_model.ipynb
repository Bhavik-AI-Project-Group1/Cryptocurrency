{
  "nbformat": 4,
  "nbformat_minor": 0,
  "metadata": {
    "colab": {
      "provenance": []
    },
    "kernelspec": {
      "name": "python3",
      "display_name": "Python 3"
    },
    "language_info": {
      "name": "python"
    }
  },
  "cells": [
    {
      "cell_type": "code",
      "execution_count": null,
      "metadata": {
        "id": "rz2n7RgLsqd9"
      },
      "outputs": [],
      "source": [
        "from sklearn.ensemble import StackingRegressor\n",
        "from sklearn.linear_model import LinearRegression\n",
        "from sklearn.metrics import mean_squared_error, mean_absolute_error, r2_score\n",
        "import xgboost as xgb\n",
        "\n",
        "# --- Stacked Model ---\n",
        "\n",
        "# Define base models\n",
        "base_models_high = [\n",
        "    ('lr_high', LinearRegression()),\n",
        "    ('xgb_high', xgb.XGBRegressor(objective='reg:squarederror', random_state=42))\n",
        "]\n",
        "\n",
        "base_models_low = [\n",
        "    ('lr_low', LinearRegression()),\n",
        "    ('xgb_low', xgb.XGBRegressor(objective='reg:squarederror', random_state=42))\n",
        "]\n",
        "\n",
        "# Define final model (here we use LinearRegression as meta-model)\n",
        "final_model = LinearRegression()\n",
        "\n",
        "# Stacked Regressor for high price prediction\n",
        "stacked_model_high = StackingRegressor(\n",
        "    estimators=base_models_high,\n",
        "    final_estimator=final_model\n",
        ")\n",
        "\n",
        "# Stacked Regressor for low price prediction\n",
        "stacked_model_low = StackingRegressor(\n",
        "    estimators=base_models_low,\n",
        "    final_estimator=final_model\n",
        ")\n",
        "\n",
        "# --- Train Stacked Models ---\n",
        "stacked_model_high.fit(X_train, y_high_train)\n",
        "stacked_model_low.fit(X_train, y_low_train)\n",
        "\n",
        "# --- Predictions ---\n",
        "y_high_pred_stacked = stacked_model_high.predict(X_test)\n",
        "y_low_pred_stacked = stacked_model_low.predict(X_test)\n",
        "\n",
        "# --- Evaluation ---\n",
        "mse_high_stacked = mean_squared_error(y_high_test, y_high_pred_stacked)\n",
        "mae_high_stacked = mean_absolute_error(y_high_test, y_high_pred_stacked)\n",
        "r2_high_stacked = r2_score(y_high_test, y_high_pred_stacked)\n",
        "\n",
        "mse_low_stacked = mean_squared_error(y_low_test, y_low_pred_stacked)\n",
        "mae_low_stacked = mean_absolute_error(y_low_test, y_low_pred_stacked)\n",
        "r2_low_stacked = r2_score(y_low_test, y_low_pred_stacked)\n",
        "\n",
        "print(\"Stacked Model - High Price Prediction:\")\n",
        "print(f\"MSE: {mse_high_stacked}, MAE: {mae_high_stacked}, R²: {r2_high_stacked}\")\n",
        "\n",
        "print(\"\\nStacked Model - Low Price Prediction:\")\n",
        "print(f\"MSE: {mse_low_stacked}, MAE: {mae_low_stacked}, R²: {r2_low_stacked}\")\n"
      ]
    }
  ]
}