{
  "nbformat": 4,
  "nbformat_minor": 0,
  "metadata": {
    "colab": {
      "provenance": []
    },
    "kernelspec": {
      "name": "python3",
      "display_name": "Python 3"
    },
    "language_info": {
      "name": "python"
    }
  },
  "cells": [
    {
      "cell_type": "code",
      "execution_count": null,
      "metadata": {
        "id": "vRMn5hmZXmHk"
      },
      "outputs": [],
      "source": [
        "import shap\n",
        "import matplotlib.pyplot as plt\n",
        "import joblib\n",
        "import pandas as pd\n",
        "\n",
        "# Load your trained XGBoost models\n",
        "xgb_model_high_loaded = joblib.load('/content/xgb_model_high.pkl')\n",
        "xgb_model_low_loaded = joblib.load('/content/xgb_model_low.pkl')\n",
        "\n",
        "# Assuming df is your original DataFrame and you want to use a subset for SHAP\n",
        "# Select a subset of the data (e.g., 20 samples to reduce memory usage)\n",
        "X_subset = df.drop(columns=['date', 'currency_name', 'high', 'low']).iloc[:20]  # Reduced to 20 samples\n",
        "\n",
        "# If no scaling was used during training, do not apply it here\n",
        "# If scaling was applied during training, use the same scaler as the model training phase (scaler = StandardScaler())\n",
        "\n",
        "# Create SHAP explainers for the high and low price prediction models\n",
        "explainer_high = shap.Explainer(xgb_model_high_loaded, X_subset)\n",
        "explainer_low = shap.Explainer(xgb_model_low_loaded, X_subset)\n",
        "\n",
        "# Generate SHAP values for the subset of data\n",
        "shap_values_high = explainer_high(X_subset)\n",
        "shap_values_low = explainer_low(X_subset)\n",
        "\n",
        "# Global Feature Importance (Summary Plot)\n",
        "shap.summary_plot(shap_values_high, X_subset)\n",
        "plt.title(\"Global Feature Importance for High Price Prediction\")\n",
        "plt.show()\n",
        "\n",
        "shap.summary_plot(shap_values_low, X_subset)\n",
        "plt.title(\"Global Feature Importance for Low Price Prediction\")\n",
        "plt.show()"
      ]
    }
  ]
}