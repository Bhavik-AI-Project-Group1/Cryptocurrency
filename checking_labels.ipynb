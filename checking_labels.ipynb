{
  "nbformat": 4,
  "nbformat_minor": 0,
  "metadata": {
    "colab": {
      "provenance": []
    },
    "kernelspec": {
      "name": "python3",
      "display_name": "Python 3"
    },
    "language_info": {
      "name": "python"
    }
  },
  "cells": [
    {
      "cell_type": "code",
      "execution_count": null,
      "metadata": {
        "id": "UjhTXYQtnrCz"
      },
      "outputs": [],
      "source": [
        "# Check the number of unique labels in 'currency_name'\n",
        "unique_currency_types = df['currency_name'].nunique()\n",
        "\n",
        "# Display the unique values in 'currency_name' and the count\n",
        "print(f\"Unique currency types: {df['currency_name'].unique()}\")\n",
        "print(f\"Number of unique currency types: {unique_currency_types}\")"
      ]
    }
  ]
}