{
  "nbformat": 4,
  "nbformat_minor": 0,
  "metadata": {
    "colab": {
      "provenance": []
    },
    "kernelspec": {
      "name": "python3",
      "display_name": "Python 3"
    },
    "language_info": {
      "name": "python"
    }
  },
  "cells": [
    {
      "cell_type": "code",
      "execution_count": null,
      "metadata": {
        "id": "Ou29SIo_sEsK"
      },
      "outputs": [],
      "source": [
        "from sklearn.preprocessing import LabelEncoder\n",
        "\n",
        "# Initialize LabelEncoder\n",
        "label_encoder = LabelEncoder()\n",
        "\n",
        "# Apply label encoding to the 'currency_name' column\n",
        "df['currency_name_encoded'] = label_encoder.fit_transform(df['currency_name'])\n",
        "\n",
        "# Check the result\n",
        "print(df[['currency_name', 'currency_name_encoded']].tail())"
      ]
    },
    {
      "cell_type": "code",
      "source": [
        "from sklearn.preprocessing import LabelEncoder\n",
        "\n",
        "# Standardize the 'currency_name' column to lowercase\n",
        "df['currency_name'] = df['currency_name'].str.lower()\n",
        "\n",
        "# Initialize LabelEncoder\n",
        "label_encoder = LabelEncoder()\n",
        "\n",
        "# Apply label encoding to the 'currency_name' column\n",
        "df['currency_name_encoded'] = label_encoder.fit_transform(df['currency_name'])\n",
        "\n",
        "# Check the result\n",
        "print(df[['currency_name', 'currency_name_encoded']].tail())\n",
        "\n",
        "# Get the unique labels and the count\n",
        "labels = label_encoder.classes_\n",
        "num_labels = len(labels)\n",
        "\n",
        "print(f\"Unique labels in 'currency_name': {labels}\")\n",
        "print(f\"Number of unique labels: {num_labels}\")"
      ],
      "metadata": {
        "id": "L2DXt1UusNjN"
      },
      "execution_count": null,
      "outputs": []
    }
  ]
}