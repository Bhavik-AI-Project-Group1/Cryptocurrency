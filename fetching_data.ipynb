{
  "nbformat": 4,
  "nbformat_minor": 0,
  "metadata": {
    "colab": {
      "provenance": []
    },
    "kernelspec": {
      "name": "python3",
      "display_name": "Python 3"
    },
    "language_info": {
      "name": "python"
    }
  },
  "cells": [
    {
      "cell_type": "code",
      "execution_count": null,
      "metadata": {
        "id": "_fT78v1-kQ_i"
      },
      "outputs": [],
      "source": [
        "# Fetch the data\n",
        "df = fetch_data()\n",
        "\n",
        "# Check if the DataFrame is not empty before displaying\n",
        "if not df.empty:\n",
        "    print(df.head())  # Display the first few rows of the DataFrame\n",
        "else:\n",
        "    print(\"No data to display.\")"
      ]
    }
  ]
}