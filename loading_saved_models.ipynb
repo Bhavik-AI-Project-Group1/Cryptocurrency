{
  "nbformat": 4,
  "nbformat_minor": 0,
  "metadata": {
    "colab": {
      "provenance": []
    },
    "kernelspec": {
      "name": "python3",
      "display_name": "Python 3"
    },
    "language_info": {
      "name": "python"
    }
  },
  "cells": [
    {
      "cell_type": "code",
      "execution_count": null,
      "metadata": {
        "id": "VnzOgZctqcEd"
      },
      "outputs": [],
      "source": [
        "# Load the saved XGBoost models\n",
        "xgb_model_high_loaded = joblib.load('/content/xgb_model_high.pkl')\n",
        "xgb_model_low_loaded = joblib.load('/content/xgb_model_low.pkl')"
      ]
    }
  ]
}