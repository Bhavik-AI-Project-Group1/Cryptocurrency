{
  "nbformat": 4,
  "nbformat_minor": 0,
  "metadata": {
    "colab": {
      "provenance": []
    },
    "kernelspec": {
      "name": "python3",
      "display_name": "Python 3"
    },
    "language_info": {
      "name": "python"
    }
  },
  "cells": [
    {
      "cell_type": "code",
      "execution_count": null,
      "metadata": {
        "id": "itd_rVQ0o4ob"
      },
      "outputs": [],
      "source": [
        "import pandas as pd\n",
        "from sklearn.preprocessing import LabelEncoder\n",
        "\n",
        "# Ensure 'date' column is in datetime format\n",
        "df['date'] = pd.to_datetime(df['date'])\n",
        "\n",
        "# Extract time-based features\n",
        "df['year'] = df['date'].dt.year\n",
        "df['month'] = df['date'].dt.month\n",
        "df['day'] = df['date'].dt.day\n",
        "df['hour'] = df['date'].dt.hour\n",
        "df['minute'] = df['date'].dt.minute\n",
        "\n",
        "# Standardize 'currency_name' to lowercase for consistency\n",
        "df['currency_name'] = df['currency_name'].str.lower()\n",
        "\n",
        "# Apply label encoding to the 'currency_name' column\n",
        "label_encoder = LabelEncoder()\n",
        "df['currency_name_encoded'] = label_encoder.fit_transform(df['currency_name'])\n",
        "\n",
        "# Create lag features for 'low', 'high', 'close', and 'open' prices (7, 14, 30, 60 days)\n",
        "lags = [7, 14, 30, 60]\n",
        "for lag in lags:\n",
        "    df[f'low_lag_{lag}'] = df['low'].shift(lag)\n",
        "    df[f'high_lag_{lag}'] = df['high'].shift(lag)\n",
        "    df[f'close_lag_{lag}'] = df['close'].shift(lag)\n",
        "    df[f'open_lag_{lag}'] = df['open'].shift(lag)\n",
        "\n",
        "# Create rolling mean features for 'low', 'high', 'close', and 'open' prices (7, 14, 30, 60 days)\n",
        "for window in [7, 14, 30, 60]:\n",
        "    df[f'low_rollmean_{window}'] = df['low'].rolling(window=window).mean()\n",
        "    df[f'high_rollmean_{window}'] = df['high'].rolling(window=window).mean()\n",
        "    df[f'close_rollmean_{window}'] = df['close'].rolling(window=window).mean()\n",
        "    df[f'open_rollmean_{window}'] = df['open'].rolling(window=window).mean()\n",
        "\n",
        "# Create price difference features (e.g., 'high' - 'low', 'close' - 'open')\n",
        "df['high_low_diff'] = df['high'] - df['low']\n",
        "df['close_open_diff'] = df['close'] - df['open']\n",
        "df['close_high_diff'] = df['close'] - df['high']\n",
        "df['close_low_diff'] = df['close'] - df['low']\n",
        "\n",
        "# Create percentage change features for 'high', 'low', 'close', and 'open' prices (daily returns)\n",
        "df['high_pct_change'] = df['high'].pct_change() * 100\n",
        "df['low_pct_change'] = df['low'].pct_change() * 100\n",
        "df['close_pct_change'] = df['close'].pct_change() * 100\n",
        "df['open_pct_change'] = df['open'].pct_change() * 100\n",
        "\n",
        "# Create rolling statistics (e.g., standard deviation) for 'high', 'low', 'close', and 'open' prices\n",
        "for window in [7, 14, 30, 60]:\n",
        "    df[f'low_rollstd_{window}'] = df['low'].rolling(window=window).std()\n",
        "    df[f'high_rollstd_{window}'] = df['high'].rolling(window=window).std()\n",
        "    df[f'close_rollstd_{window}'] = df['close'].rolling(window=window).std()\n",
        "    df[f'open_rollstd_{window}'] = df['open'].rolling(window=window).std()\n",
        "\n",
        "# Drop rows with missing values (due to lag, rolling features, or percentage changes)\n",
        "df.dropna(inplace=True)\n",
        "\n",
        "# Show the first few rows to verify\n",
        "print(df.head())\n"
      ]
    }
  ]
}