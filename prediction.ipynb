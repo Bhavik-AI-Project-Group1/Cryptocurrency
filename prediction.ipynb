{
  "nbformat": 4,
  "nbformat_minor": 0,
  "metadata": {
    "colab": {
      "provenance": []
    },
    "kernelspec": {
      "name": "python3",
      "display_name": "Python 3"
    },
    "language_info": {
      "name": "python"
    }
  },
  "cells": [
    {
      "cell_type": "code",
      "execution_count": null,
      "metadata": {
        "id": "vRMn5hmZXmHk"
      },
      "outputs": [],
      "source": [
        "def predict_future_price(future_date, currency_name, model_high, model_low, feature_columns):\n",
        "    import numpy as np\n",
        "\n",
        "    # Convert the future date to a datetime object\n",
        "    future_date = pd.to_datetime(future_date)\n",
        "\n",
        "    # Prepare the input data with default values for all required features\n",
        "    future_data = {col: [0] for col in feature_columns}  # Initialize all features to 0\n",
        "\n",
        "    # Add specific known values\n",
        "    future_data['year'] = [future_date.year]\n",
        "    future_data['month'] = [future_date.month]\n",
        "    future_data['day'] = [future_date.day]\n",
        "    future_data['weekday'] = [future_date.weekday()]\n",
        "    future_data['currency_name_encoded'] = [1 if currency_name == 'ripple' else 0]\n",
        "\n",
        "    # Convert the input data into a DataFrame\n",
        "    future_df = pd.DataFrame(future_data)\n",
        "\n",
        "    # Ensure all columns are present in the DataFrame\n",
        "    missing_features = set(feature_columns) - set(future_df.columns)\n",
        "    for feature in missing_features:\n",
        "        future_df[feature] = 0  # Add missing features with default value 0\n",
        "\n",
        "    # Ensure correct column order\n",
        "    future_df = future_df[feature_columns]\n",
        "\n",
        "    # Convert all columns to float\n",
        "    future_df = future_df.astype(float)\n",
        "\n",
        "    # Make predictions for high and low prices\n",
        "    predicted_high = model_high.predict(future_df)[0]\n",
        "    predicted_low = model_low.predict(future_df)[0]\n",
        "\n",
        "    return predicted_high, predicted_low\n",
        "\n",
        "# Example usage\n",
        "# List of feature names expected by the model (ensure this matches the training data features)\n",
        "feature_columns = xgb_model_high_loaded.get_booster().feature_names\n",
        "\n",
        "future_date = '2025-12-19'  # Example future date\n",
        "currency_name = 'cardona'  # Example currency\n",
        "\n",
        "high_pred, low_pred = predict_future_price(future_date, currency_name, xgb_model_high_loaded, xgb_model_low_loaded, feature_columns)\n",
        "\n",
        "print(f\"Predicted High Price: {high_pred}\")\n",
        "print(f\"Predicted Low Price: {low_pred}\")"
      ]
    }
  ]
}